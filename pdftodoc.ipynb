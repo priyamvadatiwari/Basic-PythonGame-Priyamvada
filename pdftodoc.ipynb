{
  "nbformat": 4,
  "nbformat_minor": 0,
  "metadata": {
    "colab": {
      "name": "pdftodoc.ipynb",
      "provenance": [],
      "collapsed_sections": [],
      "authorship_tag": "ABX9TyOkrzOatAUpQs5xd2rHrvWE",
      "include_colab_link": true
    },
    "kernelspec": {
      "name": "python3",
      "display_name": "Python 3"
    },
    "language_info": {
      "name": "python"
    }
  },
  "cells": [
    {
      "cell_type": "markdown",
      "metadata": {
        "id": "view-in-github",
        "colab_type": "text"
      },
      "source": [
        "<a href=\"https://colab.research.google.com/github/priyamvadatiwari/MachineLearning-Concepts/blob/main/pdftodoc.ipynb\" target=\"_parent\"><img src=\"https://colab.research.google.com/assets/colab-badge.svg\" alt=\"Open In Colab\"/></a>"
      ]
    },
    {
      "cell_type": "code",
      "source": [
        "pip install spacypdfreader"
      ],
      "metadata": {
        "id": "2O1P3m3XZSP_"
      },
      "execution_count": null,
      "outputs": []
    },
    {
      "cell_type": "code",
      "source": [
        "pip install 'spacypdfreader[pytesseract]'"
      ],
      "metadata": {
        "id": "aZ9CRguoZgd3"
      },
      "execution_count": null,
      "outputs": []
    },
    {
      "cell_type": "code",
      "source": [
        "!pip install https://github.com/explosion/spacy-models/releases/download/en_trf_xlnetbasecased_lg-2.2.0/en_trf_xlnetbasecased_lg-2.2.0.tar.gz"
      ],
      "metadata": {
        "id": "iOiR92g4b97z"
      },
      "execution_count": null,
      "outputs": []
    },
    {
      "cell_type": "code",
      "source": [
        "!python -m spacy download en_core_web_sm"
      ],
      "metadata": {
        "id": "as9Unk4seF42"
      },
      "execution_count": null,
      "outputs": []
    },
    {
      "cell_type": "code",
      "source": [
        "import spacy\n",
        "from spacypdfreader import pdf_reader"
      ],
      "metadata": {
        "id": "jX97ZOL-Z9mk"
      },
      "execution_count": 2,
      "outputs": []
    },
    {
      "cell_type": "code",
      "source": [
        "nlp = spacy.load(\"en_core_web_sm\")"
      ],
      "metadata": {
        "id": "0YjpShtWaunM"
      },
      "execution_count": 3,
      "outputs": []
    },
    {
      "cell_type": "code",
      "source": [
        "doc = pdf_reader(\"CourseBook.pdf\", nlp)"
      ],
      "metadata": {
        "id": "Ttnpgg_FZK04"
      },
      "execution_count": 7,
      "outputs": []
    },
    {
      "cell_type": "code",
      "source": [
        "# Get the page number of any token.\n",
        "print(doc[0]._.page_number)  # 1\n",
        "print(doc[-1]._.page_number) # 4\n",
        "\n",
        "# Get page meta data about the PDF document.\n",
        "print(doc._.pdf_file_name)   # \"tests/data/test_pdf_01.pdf\"\n",
        "# print(doc._.page_range)      # (1, 4)\n",
        "# print(doc._.first_page)      # 1\n",
        "# print(doc._.last_page)       # 4\n",
        "\n",
        "# Get all of the text from a specific PDF page.\n",
        "print(doc._.page(4))"
      ],
      "metadata": {
        "colab": {
          "base_uri": "https://localhost:8080/"
        },
        "id": "lEu7hGIAZPWC",
        "outputId": "98268289-7fe1-4227-8f38-1d170e44eebf"
      },
      "execution_count": 8,
      "outputs": [
        {
          "output_type": "stream",
          "name": "stdout",
          "text": [
            "1\n",
            "437\n",
            "CourseBook.pdf\n",
            "Research Methods for the Social Sciences: An Introduction by Valerie\n",
            "Sheppard is licensed under a Creative Commons\n",
            "Attribution-NonCommercial-ShareAlike 4.0 International License, except\n",
            "where otherwise noted.\n",
            "\n",
            "\f\n"
          ]
        }
      ]
    },
    {
      "cell_type": "code",
      "source": [
        "print(doc._.page(34)) "
      ],
      "metadata": {
        "colab": {
          "base_uri": "https://localhost:8080/"
        },
        "id": "cPTjrw46ldhj",
        "outputId": "e734c78b-fadf-4a95-f919-2dcd38b49e30"
      },
      "execution_count": 10,
      "outputs": [
        {
          "output_type": "stream",
          "name": "stdout",
          "text": [
            "Figure 1.3: Shows the research paradigms and research process © JIBC 2019\n",
            "\n",
            "Ontology & Epistemology\n",
            "\n",
            "Thinking about what you know and how you know what you\n",
            "\n",
            "know involves questions of ontology and epistemology.\n",
            "\n",
            "12 | 1.4 Understanding Key Research Concepts and Terms\n",
            "\n",
            "\f\n"
          ]
        }
      ]
    }
  ]
}